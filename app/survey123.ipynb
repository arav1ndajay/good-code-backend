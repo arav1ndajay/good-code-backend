{
 "cells": [
  {
   "cell_type": "code",
   "execution_count": 41,
   "metadata": {},
   "outputs": [],
   "source": [
    "import arcgis\n",
    "from arcgis.gis import GIS\n",
    "import pandas as pd\n",
    "import datetime"
   ]
  },
  {
   "cell_type": "code",
   "execution_count": 47,
   "metadata": {},
   "outputs": [],
   "source": [
    "class CameraTrapSurvey:\n",
    "\n",
    "    def __init__(self, url: str, username: str, password: str, survey_id: str):\n",
    "        self.gis = GIS(url=url, username=username, password=password)\n",
    "        self.survey_manager = arcgis.apps.survey123.SurveyManager(self.gis)\n",
    "        self.survey_id = survey_id\n",
    "        self.survey = self.survey_manager.get(self.survey_id)\n",
    "        self.df = self.survey.download('DF')\n",
    "        self.df['date'] = self.df['date_and_time_of_camera_setup_o'].dt.date\n",
    "\n",
    "    def get_survey(self):\n",
    "        return self.survey\n",
    "\n",
    "    def get_survey_df(self):\n",
    "        return self.df\n",
    "\n",
    "    def get_entry(self, camera_id: str, date: str):\n",
    "\n",
    "        return self.df.loc[(self.df['date'] == datetime.datetime.strptime(\n",
    "            date, \"%Y-%m-%d\").date()) & (self.df['camera_id'] == camera_id)]"
   ]
  },
  {
   "cell_type": "code",
   "execution_count": 48,
   "metadata": {},
   "outputs": [],
   "source": [
    "survey = CameraTrapSurvey(url=\"https://learngis2.maps.arcgis.com/\",\n",
    "                username=\"0627130_LearnArcGIS\",\n",
    "                password=\"arcgispass@123\",\n",
    "                survey_id=\"bcafa6fa2e584123a4f2715474cf6327\")"
   ]
  },
  {
   "cell_type": "code",
   "execution_count": 49,
   "metadata": {},
   "outputs": [
    {
     "data": {
      "text/html": [
       "<div>\n",
       "<style scoped>\n",
       "    .dataframe tbody tr th:only-of-type {\n",
       "        vertical-align: middle;\n",
       "    }\n",
       "\n",
       "    .dataframe tbody tr th {\n",
       "        vertical-align: top;\n",
       "    }\n",
       "\n",
       "    .dataframe thead th {\n",
       "        text-align: right;\n",
       "    }\n",
       "</style>\n",
       "<table border=\"1\" class=\"dataframe\">\n",
       "  <thead>\n",
       "    <tr style=\"text-align: right;\">\n",
       "      <th></th>\n",
       "      <th>objectid</th>\n",
       "      <th>globalid</th>\n",
       "      <th>CreationDate</th>\n",
       "      <th>Creator</th>\n",
       "      <th>EditDate</th>\n",
       "      <th>Editor</th>\n",
       "      <th>project_name</th>\n",
       "      <th>your_name</th>\n",
       "      <th>camera_id</th>\n",
       "      <th>date_and_time_of_camera_setup_o</th>\n",
       "      <th>...</th>\n",
       "      <th>camera_make</th>\n",
       "      <th>untitled_question_11_other</th>\n",
       "      <th>camera_settings</th>\n",
       "      <th>what_feature_is_the_camera_targ</th>\n",
       "      <th>untitled_question_13_other</th>\n",
       "      <th>camera_trap_test</th>\n",
       "      <th>camera_working_when_you_left_or</th>\n",
       "      <th>comments</th>\n",
       "      <th>SHAPE</th>\n",
       "      <th>date</th>\n",
       "    </tr>\n",
       "  </thead>\n",
       "  <tbody>\n",
       "    <tr>\n",
       "      <th>0</th>\n",
       "      <td>1</td>\n",
       "      <td>230b12bf-6ef2-4d1f-8656-5497bc9b1ba8</td>\n",
       "      <td>2022-08-04 17:13:02.348</td>\n",
       "      <td>0627130_LearnArcGIS</td>\n",
       "      <td>2022-08-04 17:13:02.348</td>\n",
       "      <td>0627130_LearnArcGIS</td>\n",
       "      <td>One</td>\n",
       "      <td>Vaishakh</td>\n",
       "      <td>Camera1</td>\n",
       "      <td>2022-12-04 16:43:00</td>\n",
       "      <td>...</td>\n",
       "      <td>_Bushnell_</td>\n",
       "      <td>None</td>\n",
       "      <td>Photos</td>\n",
       "      <td>Rubbing posts</td>\n",
       "      <td>None</td>\n",
       "      <td>Yes</td>\n",
       "      <td>Yes</td>\n",
       "      <td>Nothing</td>\n",
       "      <td>{\"x\": 76.40889146000008, \"y\": 10.4473097110000...</td>\n",
       "      <td>2022-12-04</td>\n",
       "    </tr>\n",
       "  </tbody>\n",
       "</table>\n",
       "<p>1 rows × 26 columns</p>\n",
       "</div>"
      ],
      "text/plain": [
       "   objectid                              globalid            CreationDate  \\\n",
       "0         1  230b12bf-6ef2-4d1f-8656-5497bc9b1ba8 2022-08-04 17:13:02.348   \n",
       "\n",
       "               Creator                EditDate               Editor  \\\n",
       "0  0627130_LearnArcGIS 2022-08-04 17:13:02.348  0627130_LearnArcGIS   \n",
       "\n",
       "  project_name your_name camera_id date_and_time_of_camera_setup_o  ...  \\\n",
       "0          One  Vaishakh   Camera1             2022-12-04 16:43:00  ...   \n",
       "\n",
       "  camera_make untitled_question_11_other camera_settings  \\\n",
       "0  _Bushnell_                       None          Photos   \n",
       "\n",
       "  what_feature_is_the_camera_targ  untitled_question_13_other  \\\n",
       "0                   Rubbing posts                        None   \n",
       "\n",
       "  camera_trap_test camera_working_when_you_left_or comments  \\\n",
       "0              Yes                             Yes  Nothing   \n",
       "\n",
       "                                               SHAPE        date  \n",
       "0  {\"x\": 76.40889146000008, \"y\": 10.4473097110000...  2022-12-04  \n",
       "\n",
       "[1 rows x 26 columns]"
      ]
     },
     "execution_count": 49,
     "metadata": {},
     "output_type": "execute_result"
    }
   ],
   "source": [
    "survey.get_entry('Camera1','2022-12-04')"
   ]
  },
  {
   "cell_type": "code",
   "execution_count": null,
   "metadata": {},
   "outputs": [],
   "source": []
  }
 ],
 "metadata": {
  "kernelspec": {
   "display_name": "Python 3.7.13 ('arcgis')",
   "language": "python",
   "name": "python3"
  },
  "language_info": {
   "codemirror_mode": {
    "name": "ipython",
    "version": 3
   },
   "file_extension": ".py",
   "mimetype": "text/x-python",
   "name": "python",
   "nbconvert_exporter": "python",
   "pygments_lexer": "ipython3",
   "version": "3.7.13"
  },
  "orig_nbformat": 4,
  "vscode": {
   "interpreter": {
    "hash": "51a630b8a5eefc8b621a092061f6c429901e6b65e4108744f8b7594fe8adbe8b"
   }
  }
 },
 "nbformat": 4,
 "nbformat_minor": 2
}
